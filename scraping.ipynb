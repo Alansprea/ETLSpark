{
  "nbformat": 4,
  "nbformat_minor": 0,
  "metadata": {
    "colab": {
      "provenance": [],
      "authorship_tag": "ABX9TyN/XrtwS9+0tS8V6TqL1pt+",
      "include_colab_link": true
    },
    "kernelspec": {
      "name": "python3",
      "display_name": "Python 3"
    },
    "language_info": {
      "name": "python"
    }
  },
  "cells": [
    {
      "cell_type": "markdown",
      "metadata": {
        "id": "view-in-github",
        "colab_type": "text"
      },
      "source": [
        "<a href=\"https://colab.research.google.com/github/Alansprea/ETLSpark/blob/main/scraping.ipynb\" target=\"_parent\"><img src=\"https://colab.research.google.com/assets/colab-badge.svg\" alt=\"Open In Colab\"/></a>"
      ]
    },
    {
      "cell_type": "code",
      "source": [
        "import requests\n",
        "import csv\n",
        "import os\n",
        "from google.colab import userdata"
      ],
      "metadata": {
        "id": "7w3Ozlb1eNEb"
      },
      "execution_count": 37,
      "outputs": []
    },
    {
      "cell_type": "code",
      "source": [
        "token = userdata.get('secret_key')\n"
      ],
      "metadata": {
        "id": "FjWH3YpzmTPp"
      },
      "execution_count": 38,
      "outputs": []
    },
    {
      "cell_type": "code",
      "source": [
        "def get_bitcoin_price():\n",
        "  url = f'https://www.alphavantage.co/query?function=DIGITAL_CURRENCY_DAILY&symbol=BTC&market=USD&apikey={token}'\n",
        "  r = requests.get(url)\n",
        "  data = r.json()\n",
        "\n",
        "  return data"
      ],
      "metadata": {
        "id": "0ve0BTVJgfi_"
      },
      "execution_count": 39,
      "outputs": []
    },
    {
      "cell_type": "code",
      "source": [
        "def save_csv_file_bitcoin(csv_name, api_data):\n",
        "  os.makedirs(os.path.dirname(csv_name), exist_ok=True)\n",
        "\n",
        "  # Escrever os dados no arquivo CSV\n",
        "  with open(csv_name, mode='w', newline='') as file:\n",
        "      writer = csv.writer(file)\n",
        "\n",
        "      # Escrever o cabeçalho para as informações da moeda e os dados diários\n",
        "      writer.writerow(['Currency Name', 'Market Name', 'Date', 'Open', 'High', 'Low', 'Close', 'Volume'])\n",
        "\n",
        "      # Obter informações da moeda digital\n",
        "      currency_name = api_data['Meta Data']['3. Digital Currency Name']\n",
        "      market_name = api_data['Meta Data']['5. Market Name']\n",
        "\n",
        "      # Escrever os dados diários\n",
        "      for date, price_data in api_data['Time Series (Digital Currency Daily)'].items():\n",
        "          writer.writerow([\n",
        "              currency_name,\n",
        "              market_name,\n",
        "              date,\n",
        "              price_data['1. open'],\n",
        "              price_data['2. high'],\n",
        "              price_data['3. low'],\n",
        "              price_data['4. close'],\n",
        "              price_data['5. volume']\n",
        "          ])\n",
        "\n",
        "  print(f\"Dados salvos no arquivo {csv_name}\")"
      ],
      "metadata": {
        "id": "bQ1Hy45fg7gZ"
      },
      "execution_count": 40,
      "outputs": []
    },
    {
      "cell_type": "code",
      "source": [
        "def get_cpi_data():\n",
        "  url = f'https://www.alphavantage.co/query?function=CPI&apikey={token}'\n",
        "  r = requests.get(url)\n",
        "  data = r.json()\n",
        "\n",
        "  return data"
      ],
      "metadata": {
        "id": "zqedqta7iwsC"
      },
      "execution_count": 41,
      "outputs": []
    },
    {
      "cell_type": "code",
      "source": [
        "def save_cpi_data(csv_name, api_data):\n",
        "  os.makedirs(os.path.dirname(csv_name), exist_ok=True)\n",
        "\n",
        "  # Escrever os dados no arquivo CSV\n",
        "  with open(csv_name, mode='w', newline='') as file:\n",
        "      writer = csv.writer(file)\n",
        "\n",
        "      # Escrever o cabeçalho\n",
        "      writer.writerow(['Name', 'Interval', 'Unit', 'Date', 'Value'])\n",
        "\n",
        "      # Escrever os dados\n",
        "      for entry in api_data['data']:\n",
        "          writer.writerow([api_data['name'], api_data['interval'], api_data['unit'], entry['date'], entry['value']])\n",
        "\n",
        "  print(f\"Dados salvos no arquivo {csv_name}\")"
      ],
      "metadata": {
        "id": "RfZo7O5AjH0F"
      },
      "execution_count": 42,
      "outputs": []
    },
    {
      "cell_type": "code",
      "source": [
        "bitcoin_data = get_bitcoin_price()\n",
        "cpi_data = get_cpi_data()"
      ],
      "metadata": {
        "id": "IiaoxW9IjuQG"
      },
      "execution_count": 43,
      "outputs": []
    },
    {
      "cell_type": "code",
      "source": [
        "save_csv_file_bitcoin('./data/raw/bitcoin_price.csv',bitcoin_data)"
      ],
      "metadata": {
        "colab": {
          "base_uri": "https://localhost:8080/"
        },
        "id": "o6efAJLVj7OI",
        "outputId": "779ed0c9-7812-43c6-cf71-3994799c2b31"
      },
      "execution_count": 44,
      "outputs": [
        {
          "output_type": "stream",
          "name": "stdout",
          "text": [
            "Dados salvos no arquivo ./data/raw/bitcoin_price.csv\n"
          ]
        }
      ]
    },
    {
      "cell_type": "code",
      "source": [
        "save_cpi_data('./data/raw/cpi_rate.csv',cpi_data)"
      ],
      "metadata": {
        "colab": {
          "base_uri": "https://localhost:8080/"
        },
        "id": "-1jcuEOtkSE7",
        "outputId": "71f22a58-f061-4c19-cfb7-0c93c4d316a2"
      },
      "execution_count": 45,
      "outputs": [
        {
          "output_type": "stream",
          "name": "stdout",
          "text": [
            "Dados salvos no arquivo ./data/raw/cpi_rate.csv\n"
          ]
        }
      ]
    },
    {
      "cell_type": "code",
      "source": [],
      "metadata": {
        "id": "w8J0E087lbGW"
      },
      "execution_count": null,
      "outputs": []
    }
  ]
}